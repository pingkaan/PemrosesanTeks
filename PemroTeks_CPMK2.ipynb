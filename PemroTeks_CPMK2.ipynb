{
  "cells": [
    {
      "cell_type": "code",
      "execution_count": 1,
      "metadata": {
        "id": "2jJ18QSkgGri"
      },
      "outputs": [],
      "source": [
        "# pip install google-play-scraper"
      ]
    },
    {
      "cell_type": "code",
      "execution_count": 2,
      "metadata": {},
      "outputs": [],
      "source": [
        "# pip install nltk"
      ]
    },
    {
      "cell_type": "code",
      "execution_count": 3,
      "metadata": {},
      "outputs": [],
      "source": [
        "# pip install sastrawi"
      ]
    },
    {
      "cell_type": "code",
      "execution_count": 4,
      "metadata": {},
      "outputs": [],
      "source": [
        "# pip install pandas"
      ]
    },
    {
      "cell_type": "code",
      "execution_count": 5,
      "metadata": {
        "id": "OgnSJpqUgdgF"
      },
      "outputs": [
        {
          "name": "stderr",
          "output_type": "stream",
          "text": [
            "[nltk_data] Downloading package punkt to\n",
            "[nltk_data]     C:\\Users\\HP\\AppData\\Roaming\\nltk_data...\n",
            "[nltk_data]   Package punkt is already up-to-date!\n",
            "[nltk_data] Downloading package punkt_tab to\n",
            "[nltk_data]     C:\\Users\\HP\\AppData\\Roaming\\nltk_data...\n",
            "[nltk_data]   Package punkt_tab is already up-to-date!\n",
            "[nltk_data] Downloading package stopwords to\n",
            "[nltk_data]     C:\\Users\\HP\\AppData\\Roaming\\nltk_data...\n",
            "[nltk_data]   Package stopwords is already up-to-date!\n"
          ]
        },
        {
          "data": {
            "text/plain": [
              "True"
            ]
          },
          "execution_count": 5,
          "metadata": {},
          "output_type": "execute_result"
        }
      ],
      "source": [
        "# Memanggil seluruh library yang diperlukan\n",
        "from google_play_scraper import Sort, reviews\n",
        "\n",
        "import pandas as pd\n",
        "import numpy as np\n",
        "\n",
        "import re\n",
        "import nltk\n",
        "from nltk.tokenize import word_tokenize\n",
        "from nltk.corpus import stopwords\n",
        "from Sastrawi.Stemmer.StemmerFactory import StemmerFactory\n",
        "\n",
        "# Unduh resource NLTK (jika belum)\n",
        "nltk.download('punkt')\n",
        "nltk.download('punkt_tab')\n",
        "nltk.download('stopwords')"
      ]
    },
    {
      "cell_type": "markdown",
      "metadata": {
        "id": "fGWi-CHygwJm"
      },
      "source": [
        "## Proses Scraping"
      ]
    },
    {
      "cell_type": "code",
      "execution_count": 7,
      "metadata": {
        "id": "FSnrFg50gkzA"
      },
      "outputs": [],
      "source": [
        "# mulai scraping\n",
        "result, continuation_token = reviews(\n",
        "    'com.strava', #masukkan link setelah kata 'id'\n",
        "    lang='id', # defaults to 'en'\n",
        "    country='id', # defaults to 'us'\n",
        "    sort=Sort.NEWEST, # defaults to Sort.MOST_RELEVANT\n",
        "    count=2000, # defaults to 100\n",
        "    filter_score_with=None # defaults to None(means all score)\n",
        ")"
      ]
    },
    {
      "cell_type": "code",
      "execution_count": 8,
      "metadata": {
        "id": "zf9dZyaPgm7q"
      },
      "outputs": [],
      "source": [
        "# membuat Dataframe dari hasil scraping\n",
        "df = pd.DataFrame(np.array(result),columns=['review'])\n",
        "df = df.join(pd.DataFrame(df.pop('review').tolist()))"
      ]
    },
    {
      "cell_type": "code",
      "execution_count": 9,
      "metadata": {
        "id": "YR-OszHcgtwc"
      },
      "outputs": [],
      "source": [
        "# mengekspor dataset\n",
        "df.to_csv(\"Review Strava-Google Play Store.csv\", index=False, encoding='utf-8')"
      ]
    },
    {
      "cell_type": "markdown",
      "metadata": {},
      "source": [
        "# Membaca Dataset"
      ]
    },
    {
      "cell_type": "code",
      "execution_count": 10,
      "metadata": {},
      "outputs": [
        {
          "name": "stdout",
          "output_type": "stream",
          "text": [
            "=== Data Asli (5 Baris Pertama) ===\n"
          ]
        },
        {
          "data": {
            "text/html": [
              "<div>\n",
              "<style scoped>\n",
              "    .dataframe tbody tr th:only-of-type {\n",
              "        vertical-align: middle;\n",
              "    }\n",
              "\n",
              "    .dataframe tbody tr th {\n",
              "        vertical-align: top;\n",
              "    }\n",
              "\n",
              "    .dataframe thead th {\n",
              "        text-align: right;\n",
              "    }\n",
              "</style>\n",
              "<table border=\"1\" class=\"dataframe\">\n",
              "  <thead>\n",
              "    <tr style=\"text-align: right;\">\n",
              "      <th></th>\n",
              "      <th>reviewId</th>\n",
              "      <th>userName</th>\n",
              "      <th>userImage</th>\n",
              "      <th>content</th>\n",
              "      <th>score</th>\n",
              "      <th>thumbsUpCount</th>\n",
              "      <th>reviewCreatedVersion</th>\n",
              "      <th>at</th>\n",
              "      <th>replyContent</th>\n",
              "      <th>repliedAt</th>\n",
              "      <th>appVersion</th>\n",
              "    </tr>\n",
              "  </thead>\n",
              "  <tbody>\n",
              "    <tr>\n",
              "      <th>0</th>\n",
              "      <td>252770b8-d91f-4b0e-b711-cccbf065738c</td>\n",
              "      <td>Gilang Setiawann</td>\n",
              "      <td>https://play-lh.googleusercontent.com/a-/ALV-U...</td>\n",
              "      <td>oke</td>\n",
              "      <td>5</td>\n",
              "      <td>0</td>\n",
              "      <td>432.11</td>\n",
              "      <td>2025-10-15 19:38:49</td>\n",
              "      <td>NaN</td>\n",
              "      <td>NaN</td>\n",
              "      <td>432.11</td>\n",
              "    </tr>\n",
              "    <tr>\n",
              "      <th>1</th>\n",
              "      <td>90a189e7-dc4a-45ff-be39-973205d418fd</td>\n",
              "      <td>si Paipai</td>\n",
              "      <td>https://play-lh.googleusercontent.com/a/ACg8oc...</td>\n",
              "      <td>tolong buat pihak strava saya tidak langganan ...</td>\n",
              "      <td>1</td>\n",
              "      <td>0</td>\n",
              "      <td>432.11</td>\n",
              "      <td>2025-10-15 15:07:38</td>\n",
              "      <td>NaN</td>\n",
              "      <td>NaN</td>\n",
              "      <td>432.11</td>\n",
              "    </tr>\n",
              "    <tr>\n",
              "      <th>2</th>\n",
              "      <td>dfb70f17-5e5f-4e6e-8ec1-31824c559c7a</td>\n",
              "      <td>Sajimin Sajimin</td>\n",
              "      <td>https://play-lh.googleusercontent.com/a-/ALV-U...</td>\n",
              "      <td>keren</td>\n",
              "      <td>5</td>\n",
              "      <td>0</td>\n",
              "      <td>432.11</td>\n",
              "      <td>2025-10-15 07:56:41</td>\n",
              "      <td>NaN</td>\n",
              "      <td>NaN</td>\n",
              "      <td>432.11</td>\n",
              "    </tr>\n",
              "    <tr>\n",
              "      <th>3</th>\n",
              "      <td>bda1f1d2-445e-4c15-b9c0-7c3237fbf0f1</td>\n",
              "      <td>Bintang Raspati</td>\n",
              "      <td>https://play-lh.googleusercontent.com/a-/ALV-U...</td>\n",
              "      <td>Sangat membantu buat tracking olahraga! mayan ...</td>\n",
              "      <td>5</td>\n",
              "      <td>0</td>\n",
              "      <td>432.11</td>\n",
              "      <td>2025-10-15 07:05:30</td>\n",
              "      <td>NaN</td>\n",
              "      <td>NaN</td>\n",
              "      <td>432.11</td>\n",
              "    </tr>\n",
              "    <tr>\n",
              "      <th>4</th>\n",
              "      <td>c3ca84ad-65c0-4eec-b150-2b2416dafc13</td>\n",
              "      <td>PRO FANI</td>\n",
              "      <td>https://play-lh.googleusercontent.com/a/ACg8oc...</td>\n",
              "      <td>Saya tidak sengaja berlangganan di aplikasi in...</td>\n",
              "      <td>1</td>\n",
              "      <td>0</td>\n",
              "      <td>NaN</td>\n",
              "      <td>2025-10-15 01:08:03</td>\n",
              "      <td>NaN</td>\n",
              "      <td>NaN</td>\n",
              "      <td>NaN</td>\n",
              "    </tr>\n",
              "  </tbody>\n",
              "</table>\n",
              "</div>"
            ],
            "text/plain": [
              "                               reviewId          userName  \\\n",
              "0  252770b8-d91f-4b0e-b711-cccbf065738c  Gilang Setiawann   \n",
              "1  90a189e7-dc4a-45ff-be39-973205d418fd         si Paipai   \n",
              "2  dfb70f17-5e5f-4e6e-8ec1-31824c559c7a   Sajimin Sajimin   \n",
              "3  bda1f1d2-445e-4c15-b9c0-7c3237fbf0f1   Bintang Raspati   \n",
              "4  c3ca84ad-65c0-4eec-b150-2b2416dafc13          PRO FANI   \n",
              "\n",
              "                                           userImage  \\\n",
              "0  https://play-lh.googleusercontent.com/a-/ALV-U...   \n",
              "1  https://play-lh.googleusercontent.com/a/ACg8oc...   \n",
              "2  https://play-lh.googleusercontent.com/a-/ALV-U...   \n",
              "3  https://play-lh.googleusercontent.com/a-/ALV-U...   \n",
              "4  https://play-lh.googleusercontent.com/a/ACg8oc...   \n",
              "\n",
              "                                             content  score  thumbsUpCount  \\\n",
              "0                                                oke      5              0   \n",
              "1  tolong buat pihak strava saya tidak langganan ...      1              0   \n",
              "2                                              keren      5              0   \n",
              "3  Sangat membantu buat tracking olahraga! mayan ...      5              0   \n",
              "4  Saya tidak sengaja berlangganan di aplikasi in...      1              0   \n",
              "\n",
              "   reviewCreatedVersion                   at  replyContent  repliedAt  \\\n",
              "0                432.11  2025-10-15 19:38:49           NaN        NaN   \n",
              "1                432.11  2025-10-15 15:07:38           NaN        NaN   \n",
              "2                432.11  2025-10-15 07:56:41           NaN        NaN   \n",
              "3                432.11  2025-10-15 07:05:30           NaN        NaN   \n",
              "4                   NaN  2025-10-15 01:08:03           NaN        NaN   \n",
              "\n",
              "   appVersion  \n",
              "0      432.11  \n",
              "1      432.11  \n",
              "2      432.11  \n",
              "3      432.11  \n",
              "4         NaN  "
            ]
          },
          "metadata": {},
          "output_type": "display_data"
        }
      ],
      "source": [
        "# Membaca dataset hasil scraping review\n",
        "file_path = \"Review Strava-Google Play Store.csv\"\n",
        "df = pd.read_csv(file_path)\n",
        "\n",
        "print(\"=== Data Asli (5 Baris Pertama) ===\")\n",
        "display(df.head())"
      ]
    },
    {
      "cell_type": "markdown",
      "metadata": {},
      "source": [
        "# Preprocessing"
      ]
    },
    {
      "cell_type": "code",
      "execution_count": 11,
      "metadata": {},
      "outputs": [
        {
          "name": "stdout",
          "output_type": "stream",
          "text": [
            "=== Hasil Case Folding ===\n"
          ]
        },
        {
          "data": {
            "text/html": [
              "<div>\n",
              "<style scoped>\n",
              "    .dataframe tbody tr th:only-of-type {\n",
              "        vertical-align: middle;\n",
              "    }\n",
              "\n",
              "    .dataframe tbody tr th {\n",
              "        vertical-align: top;\n",
              "    }\n",
              "\n",
              "    .dataframe thead th {\n",
              "        text-align: right;\n",
              "    }\n",
              "</style>\n",
              "<table border=\"1\" class=\"dataframe\">\n",
              "  <thead>\n",
              "    <tr style=\"text-align: right;\">\n",
              "      <th></th>\n",
              "      <th>content</th>\n",
              "      <th>casefolding</th>\n",
              "    </tr>\n",
              "  </thead>\n",
              "  <tbody>\n",
              "    <tr>\n",
              "      <th>0</th>\n",
              "      <td>oke</td>\n",
              "      <td>oke</td>\n",
              "    </tr>\n",
              "    <tr>\n",
              "      <th>1</th>\n",
              "      <td>tolong buat pihak strava saya tidak langganan ...</td>\n",
              "      <td>tolong buat pihak strava saya tidak langganan ...</td>\n",
              "    </tr>\n",
              "    <tr>\n",
              "      <th>2</th>\n",
              "      <td>keren</td>\n",
              "      <td>keren</td>\n",
              "    </tr>\n",
              "    <tr>\n",
              "      <th>3</th>\n",
              "      <td>Sangat membantu buat tracking olahraga! mayan ...</td>\n",
              "      <td>sangat membantu buat tracking olahraga! mayan ...</td>\n",
              "    </tr>\n",
              "    <tr>\n",
              "      <th>4</th>\n",
              "      <td>Saya tidak sengaja berlangganan di aplikasi in...</td>\n",
              "      <td>saya tidak sengaja berlangganan di aplikasi in...</td>\n",
              "    </tr>\n",
              "  </tbody>\n",
              "</table>\n",
              "</div>"
            ],
            "text/plain": [
              "                                             content  \\\n",
              "0                                                oke   \n",
              "1  tolong buat pihak strava saya tidak langganan ...   \n",
              "2                                              keren   \n",
              "3  Sangat membantu buat tracking olahraga! mayan ...   \n",
              "4  Saya tidak sengaja berlangganan di aplikasi in...   \n",
              "\n",
              "                                         casefolding  \n",
              "0                                                oke  \n",
              "1  tolong buat pihak strava saya tidak langganan ...  \n",
              "2                                              keren  \n",
              "3  sangat membantu buat tracking olahraga! mayan ...  \n",
              "4  saya tidak sengaja berlangganan di aplikasi in...  "
            ]
          },
          "metadata": {},
          "output_type": "display_data"
        }
      ],
      "source": [
        "# Case Folding\n",
        "# Mengubah semua huruf menjadi huruf kecil\n",
        "df['casefolding'] = df['content'].astype(str).str.lower()\n",
        "\n",
        "print(\"=== Hasil Case Folding ===\")\n",
        "display(df[['content', 'casefolding']].head())\n"
      ]
    },
    {
      "cell_type": "code",
      "execution_count": 12,
      "metadata": {},
      "outputs": [],
      "source": [
        "# Cleansing\n",
        "# Menghapus karakter selain huruf dan spasi\n",
        "df['cleaned'] = df['casefolding'].apply(lambda x: re.sub(r'[^a-z\\s]', '', x))"
      ]
    },
    {
      "cell_type": "code",
      "execution_count": 13,
      "metadata": {},
      "outputs": [],
      "source": [
        "# Tokenizing\n",
        "# Memecah kalimat menjadi kata-kata (token)\n",
        "df['token'] = df['cleaned'].apply(lambda x: word_tokenize(x))"
      ]
    },
    {
      "cell_type": "code",
      "execution_count": 14,
      "metadata": {},
      "outputs": [],
      "source": [
        "# Stopward\n",
        "# Menghapus kata-kata umum (stopword)\n",
        "stop_words = set(stopwords.words('indonesian'))\n",
        "df['token_stopword'] = df['token'].apply(lambda tokens: [w for w in tokens if w not in stop_words])"
      ]
    },
    {
      "cell_type": "code",
      "execution_count": 16,
      "metadata": {},
      "outputs": [
        {
          "name": "stdout",
          "output_type": "stream",
          "text": [
            "=== Contoh Hasil Preprocessing ===\n"
          ]
        },
        {
          "data": {
            "text/html": [
              "<div>\n",
              "<style scoped>\n",
              "    .dataframe tbody tr th:only-of-type {\n",
              "        vertical-align: middle;\n",
              "    }\n",
              "\n",
              "    .dataframe tbody tr th {\n",
              "        vertical-align: top;\n",
              "    }\n",
              "\n",
              "    .dataframe thead th {\n",
              "        text-align: right;\n",
              "    }\n",
              "</style>\n",
              "<table border=\"1\" class=\"dataframe\">\n",
              "  <thead>\n",
              "    <tr style=\"text-align: right;\">\n",
              "      <th></th>\n",
              "      <th>content</th>\n",
              "      <th>preprocessed_text</th>\n",
              "    </tr>\n",
              "  </thead>\n",
              "  <tbody>\n",
              "    <tr>\n",
              "      <th>0</th>\n",
              "      <td>oke</td>\n",
              "      <td>oke</td>\n",
              "    </tr>\n",
              "    <tr>\n",
              "      <th>1</th>\n",
              "      <td>tolong buat pihak strava saya tidak langganan ...</td>\n",
              "      <td>tolong strava langgan saldo potong tolong stra...</td>\n",
              "    </tr>\n",
              "    <tr>\n",
              "      <th>2</th>\n",
              "      <td>keren</td>\n",
              "      <td>keren</td>\n",
              "    </tr>\n",
              "    <tr>\n",
              "      <th>3</th>\n",
              "      <td>Sangat membantu buat tracking olahraga! mayan ...</td>\n",
              "      <td>bantu tracking olahraga mayan akurat easy to u...</td>\n",
              "    </tr>\n",
              "    <tr>\n",
              "      <th>4</th>\n",
              "      <td>Saya tidak sengaja berlangganan di aplikasi in...</td>\n",
              "      <td>sengaja langgan aplikasi dana dikembalikansaya...</td>\n",
              "    </tr>\n",
              "  </tbody>\n",
              "</table>\n",
              "</div>"
            ],
            "text/plain": [
              "                                             content  \\\n",
              "0                                                oke   \n",
              "1  tolong buat pihak strava saya tidak langganan ...   \n",
              "2                                              keren   \n",
              "3  Sangat membantu buat tracking olahraga! mayan ...   \n",
              "4  Saya tidak sengaja berlangganan di aplikasi in...   \n",
              "\n",
              "                                   preprocessed_text  \n",
              "0                                                oke  \n",
              "1  tolong strava langgan saldo potong tolong stra...  \n",
              "2                                              keren  \n",
              "3  bantu tracking olahraga mayan akurat easy to u...  \n",
              "4  sengaja langgan aplikasi dana dikembalikansaya...  "
            ]
          },
          "metadata": {},
          "output_type": "display_data"
        }
      ],
      "source": [
        "# Stemming\n",
        "# Mengubah kata ke bentuk dasarnya\n",
        "factory = StemmerFactory()\n",
        "stemmer = factory.create_stemmer()\n",
        "\n",
        "df['stemmed'] = df['token_stopword'].apply(lambda tokens: [stemmer.stem(w) for w in tokens])\n",
        "df['preprocessed_text'] = df['stemmed'].apply(lambda tokens: ' '.join(tokens))\n",
        "\n",
        "print(\"=== Contoh Hasil Preprocessing ===\")\n",
        "display(df[['content', 'preprocessed_text']].head())"
      ]
    },
    {
      "cell_type": "markdown",
      "metadata": {},
      "source": [
        "# Menyimpan Hasil"
      ]
    },
    {
      "cell_type": "code",
      "execution_count": 18,
      "metadata": {},
      "outputs": [
        {
          "name": "stdout",
          "output_type": "stream",
          "text": [
            "✅ File hasil preprocessing berhasil disimpan sebagai: Review_Strava_Preprocessed.csv\n",
            "\n",
            "Kolom yang disimpan:\n",
            "- username\n",
            "- review\n",
            "- casefolding\n",
            "- preprocessed_text\n",
            "- score\n",
            "- at\n",
            "- appversion\n"
          ]
        }
      ],
      "source": [
        "# Mengganti nama kolom 'content' menjadi 'review'\n",
        "df = df.rename(columns={'content': 'review'})\n",
        "\n",
        "# Menyesuaikan semua nama kolom menjadi huruf kecil (lowercase)\n",
        "# Ini adalah langkah penting yang menyebabkan error sebelumnya\n",
        "df.columns = [c.lower() for c in df.columns]\n",
        "\n",
        "# Menentukan kolom yang ingin disimpan DENGAN NAMA YANG SUDAH BENAR (lowercase)\n",
        "selected_columns = ['username', 'review', 'casefolding', 'preprocessed_text', 'score', 'at', 'appversion']\n",
        "\n",
        "# Menyimpan hasil preprocessing ke file baru\n",
        "output_path = \"Review_Strava_Preprocessed.csv\"\n",
        "df[selected_columns].to_csv(output_path, index=False)\n",
        "\n",
        "print(f\"✅ File hasil preprocessing berhasil disimpan sebagai: {output_path}\")\n",
        "print(\"\\nKolom yang disimpan:\")\n",
        "# Mencetak list untuk memastikan\n",
        "for col in selected_columns:\n",
        "    print(f\"- {col}\")"
      ]
    }
  ],
  "metadata": {
    "colab": {
      "provenance": []
    },
    "kernelspec": {
      "display_name": "Python 3",
      "name": "python3"
    },
    "language_info": {
      "codemirror_mode": {
        "name": "ipython",
        "version": 3
      },
      "file_extension": ".py",
      "mimetype": "text/x-python",
      "name": "python",
      "nbconvert_exporter": "python",
      "pygments_lexer": "ipython3",
      "version": "3.10.7"
    }
  },
  "nbformat": 4,
  "nbformat_minor": 0
}
